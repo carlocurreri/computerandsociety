{
 "cells": [
  {
   "cell_type": "markdown",
   "metadata": {},
   "source": [
    "# ricetta pasta alla gricia"
   ]
  },
  {
   "cell_type": "markdown",
   "metadata": {},
   "source": [
    "# ingredienti\n",
    "- Rigatoni (320g)\n",
    "- Guanciale (250g)\n",
    "- pecorino romano (60g)\n",
    "- sale fino"
   ]
  },
  {
   "cell_type": "code",
   "execution_count": 1,
   "metadata": {},
   "outputs": [
    {
     "data": {
      "text/plain": [
       "1000"
      ]
     },
     "execution_count": 1,
     "metadata": {},
     "output_type": "execute_result"
    }
   ],
   "source": [
    "n_persone = 4\n",
    "dose_guanciale_a_persona = 250\n",
    "dose_guanciale = n_persone*dose_guanciale_a_persona\n",
    "dose_guanciale"
   ]
  },
  {
   "cell_type": "code",
   "execution_count": null,
   "metadata": {},
   "outputs": [],
   "source": []
  }
 ],
 "metadata": {
  "kernelspec": {
   "display_name": "Python 3",
   "language": "python",
   "name": "python3"
  },
  "language_info": {
   "codemirror_mode": {
    "name": "ipython",
    "version": 3
   },
   "file_extension": ".py",
   "mimetype": "text/x-python",
   "name": "python",
   "nbconvert_exporter": "python",
   "pygments_lexer": "ipython3",
   "version": "3.8.3"
  }
 },
 "nbformat": 4,
 "nbformat_minor": 4
}
